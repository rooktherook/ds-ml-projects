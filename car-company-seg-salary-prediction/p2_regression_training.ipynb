{
 "cells": [
  {
   "attachments": {},
   "cell_type": "markdown",
   "id": "ce060bc6",
   "metadata": {},
   "source": [
    "# Regression Training"
   ]
  },
  {
   "cell_type": "code",
   "execution_count": 56,
   "id": "7d488f42",
   "metadata": {},
   "outputs": [],
   "source": [
    "import sklearn\n",
    "import numpy as np\n",
    "import pandas as pd\n",
    "import seaborn as sns\n",
    "import matplotlib.pyplot as plt\n",
    "%matplotlib inline"
   ]
  },
  {
   "attachments": {},
   "cell_type": "markdown",
   "id": "08c4bc0a",
   "metadata": {},
   "source": [
    "## 1. Load and split preprocessed data"
   ]
  },
  {
   "cell_type": "code",
   "execution_count": 57,
   "id": "82b64b4b",
   "metadata": {},
   "outputs": [
    {
     "data": {
      "text/plain": [
       "work_year                              float64\n",
       "experience_level                         int64\n",
       "salary_in_usd                            int64\n",
       "remote_ratio                           float64\n",
       "employment_type_FL                       int64\n",
       "employment_type_FT                       int64\n",
       "employment_type_PT                       int64\n",
       "job_title_Analytics Engineer             int64\n",
       "job_title_Applied Scientist              int64\n",
       "job_title_Data Analyst                   int64\n",
       "job_title_Data Architect                 int64\n",
       "job_title_Data Engineer                  int64\n",
       "job_title_Data Science Manager           int64\n",
       "job_title_Machine Learning Engineer      int64\n",
       "job_title_Other                          int64\n",
       "employee_residence_BR                    int64\n",
       "employee_residence_DE                    int64\n",
       "employee_residence_ES                    int64\n",
       "employee_residence_FR                    int64\n",
       "employee_residence_GB                    int64\n",
       "employee_residence_IN                    int64\n",
       "employee_residence_Other                 int64\n",
       "employee_residence_PT                    int64\n",
       "employee_residence_US                    int64\n",
       "dtype: object"
      ]
     },
     "execution_count": 57,
     "metadata": {},
     "output_type": "execute_result"
    }
   ],
   "source": [
    "# Import dataset\n",
    "data = pd.read_csv('salaries_processed.csv')\n",
    "data.dtypes"
   ]
  },
  {
   "cell_type": "markdown",
   "id": "22e3c5f1",
   "metadata": {},
   "source": [
    "# Dataset Summary\n",
    "<p>Salaries of Data science related jobs</p>\n",
    "<p>This dataset contains the features shown above and it's target is to determine the Salary (standardized to usd) of a data science worker based on various factors.</p>"
   ]
  },
  {
   "cell_type": "code",
   "execution_count": 58,
   "id": "8bf22623",
   "metadata": {},
   "outputs": [],
   "source": [
    "# Splitting the data set\n",
    "from sklearn.model_selection import train_test_split\n",
    "\n",
    "# Y is the dependent variable salary in usd.\n",
    "# X contains the independent variables, which are all the other columns\n",
    "Y = data['salary_in_usd']\n",
    "X = data.drop('salary_in_usd', axis=1)\n",
    "\n",
    "# Using a 80-20 train-test split for the training and testing set\n",
    "# Test size 0.1 and 0.3 were tested to be less optimal\n",
    "X_train, X_test, Y_train, Y_test = train_test_split(X, Y, test_size=0.2, random_state=1)"
   ]
  },
  {
   "cell_type": "code",
   "execution_count": 59,
   "id": "50a6f2d9",
   "metadata": {},
   "outputs": [
    {
     "name": "stdout",
     "output_type": "stream",
     "text": [
      "Training data: (2953, 23) (2953,)\n",
      "Testing data: (739, 23) (739,)\n"
     ]
    }
   ],
   "source": [
    "# Check if split was correct\n",
    "print('Training data:', X_train.shape, Y_train.shape)\n",
    "print('Testing data:', X_test.shape, Y_test.shape)"
   ]
  },
  {
   "attachments": {},
   "cell_type": "markdown",
   "id": "c03221b0",
   "metadata": {},
   "source": [
    "## 2. Choose an algorithm"
   ]
  },
  {
   "cell_type": "markdown",
   "id": "777e19fb",
   "metadata": {},
   "source": [
    "<p> For the regression dataset I will be using linear regression</p>\n",
    "<p> Linear regression is an supervised machine learning algorithm used to predict a continous dependent variable Y based on one or more independent variables x1,x2.... xn. A trained linear regression model takes the equation y = m1x1 + c1 + m2x2 + c2.... where the relationship expands to include coefficients and constants for each given independent variable. It will result in a linear equation that best fits the data trend provided. </p>"
   ]
  },
  {
   "cell_type": "code",
   "execution_count": 60,
   "id": "e560c3b5",
   "metadata": {},
   "outputs": [],
   "source": [
    "# Import linear regression and mse \n",
    "from sklearn.linear_model import LinearRegression\n",
    "from sklearn.metrics import r2_score, mean_squared_error, mean_absolute_error"
   ]
  },
  {
   "attachments": {},
   "cell_type": "markdown",
   "id": "3e06351b",
   "metadata": {},
   "source": [
    "## 3. Train and test a model"
   ]
  },
  {
   "cell_type": "code",
   "execution_count": 67,
   "id": "619bb3d3",
   "metadata": {},
   "outputs": [
    {
     "name": "stdout",
     "output_type": "stream",
     "text": [
      "Mean Squared Error - 1797182192.5038137\n",
      "Linear Regression Coefficients -  [  4180.17304544  23339.08615111    256.1555787    3954.49675624\n",
      "  27219.55702538  25808.97624778   4379.45207963  21265.47471531\n",
      " -33314.2968146    -846.85279265  -7982.67938488  29161.193885\n",
      "  10640.8824428   -1726.46335909 -57950.94614532 -21140.02822326\n",
      " -64262.98640991 -50759.07375427 -30488.6868149  -73065.7120044\n",
      " -43180.28780165 -72352.96165118  19231.33275277]\n",
      "Linear Regression Intercept -  68281.21794547673\n"
     ]
    }
   ],
   "source": [
    "# initialize and train the model\n",
    "model = LinearRegression()\n",
    "model.fit(X_train, Y_train)\n",
    "\n",
    "# Predict the test set\n",
    "Y_pred = model.predict(X_test)\n",
    "\n",
    "# show the mean squared error\n",
    "mse = mean_squared_error(Y_test, Y_pred)\n",
    "print(f\"Mean Squared Error - {mse}\")\n",
    "\n",
    "#\n",
    "print(\"Linear Regression Coefficients - \", model.coef_)\n",
    "print(\"Linear Regression Intercept - \", model.intercept_)"
   ]
  },
  {
   "attachments": {},
   "cell_type": "markdown",
   "id": "5cafcd88",
   "metadata": {},
   "source": [
    "## 4. Evaluate the model "
   ]
  },
  {
   "cell_type": "code",
   "execution_count": 65,
   "id": "55b0785c",
   "metadata": {},
   "outputs": [
    {
     "name": "stdout",
     "output_type": "stream",
     "text": [
      "R2 Score - 0.4557117710982329\n",
      "Root Mean Squared Error - 42393.185684775024\n",
      "Mean Absolute Error - 33477.1769252552\n"
     ]
    }
   ],
   "source": [
    "# Print R2 Score\n",
    "r2 = r2_score(Y_test, Y_pred)\n",
    "print(f\"R2 Score - {r2}\")\n",
    "# R2 measures the correlation between two input variables, values above 0 indicate a positive correlation and values below 0 indicate negative correlation.\n",
    "\n",
    "\n",
    "# print rmse\n",
    "rmse = mean_squared_error(Y_test, Y_pred, squared=False)\n",
    "print(f\"Root Mean Squared Error - {rmse}\")\n",
    "# RMSE is the square root of the above mean squared error, It is a measure of the error from how close the predicted values are from the actual values.\n",
    "\n",
    "# print mae\n",
    "mae = mean_absolute_error(Y_test, Y_pred)\n",
    "print(f\"Mean Absolute Error - {mae}\")\n",
    "# MAE Is another measure of error with how close predicted values, Instead of square rooting the values the absolute value is taken."
   ]
  },
  {
   "attachments": {},
   "cell_type": "markdown",
   "id": "802b550a",
   "metadata": {},
   "source": [
    "## 5. Summary"
   ]
  },
  {
   "attachments": {},
   "cell_type": "markdown",
   "id": "0dda11f9",
   "metadata": {},
   "source": [
    "<p> In step 1 we imported the dataset, summarized its purpose in predicting the salary of data science related Jobs and then created the training and testing dataset with a split of 80 to 20</p>\n",
    "\n",
    "<p> In step 2 we summarized the linear regression model and its use in predicting a continous dependent variable, using consequent linear equatiosn for each feature and imported the model itself along with the metrics.</p>\n",
    "\n",
    "<p> In step 3 the model was trained, and the prediction set was created along with the mean squared error being displayed</p>\n",
    "\n",
    "<p> In step 4 the R2 Score, RMSE, Mae were evaluated and summarized their uses.</p>\n",
    "\n",
    "# Evaluation \n",
    "<p> \n",
    "The linear regression coefficients as printed above form a part of the linear regression equation y = m1x1 + c1 + m2x2 + c2.... where each coefficient is m1,m2 ... up to mi. Each coefficient is multiplied by the the data values for each feature in order to create a predicted value.\n",
    "\n",
    "Our R2 score was 0.4557 telling us that 45.6% of the variability present within the model could be explained by the features that have chosen to use. The rest of the variability is unexplained.\n",
    "Our RMSE and MAE were 42393 and 33477 respectively, given that our dependent variable salary in usd was within the 6 figure range, this is a significant amount of error.\n",
    "\n",
    "Less than half of the variability due to features is captured by our model as shown by our R2 Score, and our RMSE and MAE show there is a significant amount of error within the model.\n",
    "\n",
    "Options for us to improve these metrics include using a more complex model as linear regression may not be enough to capture the relationship between the features and the dependent variable, our preprocessing simplified a large portion of the data, which had many different datatypes for job title and location maybe a different model would have been able to handle these features better. Data collection could be improved to capture more fields that may have a big impact on the dependent variable.\n",
    "\n",
    "</p>"
   ]
  },
  {
   "cell_type": "code",
   "execution_count": 68,
   "id": "3f3fea03",
   "metadata": {},
   "outputs": [],
   "source": [
    "# Export model using pickle\n",
    "import pickle\n",
    "\n",
    "with open('salary_model.pkl', 'wb') as model_file:\n",
    "    pickle.dump(model, model_file)"
   ]
  }
 ],
 "metadata": {
  "kernelspec": {
   "display_name": "Python 3 (ipykernel)",
   "language": "python",
   "name": "python3"
  },
  "language_info": {
   "codemirror_mode": {
    "name": "ipython",
    "version": 3
   },
   "file_extension": ".py",
   "mimetype": "text/x-python",
   "name": "python",
   "nbconvert_exporter": "python",
   "pygments_lexer": "ipython3",
   "version": "3.10.5"
  }
 },
 "nbformat": 4,
 "nbformat_minor": 5
}
