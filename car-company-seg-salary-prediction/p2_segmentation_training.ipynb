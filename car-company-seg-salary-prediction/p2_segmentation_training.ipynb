{
 "cells": [
  {
   "attachments": {},
   "cell_type": "markdown",
   "id": "ce060bc6",
   "metadata": {},
   "source": [
    "# Segmentation Training"
   ]
  },
  {
   "cell_type": "code",
   "execution_count": 1,
   "id": "7d488f42",
   "metadata": {},
   "outputs": [],
   "source": [
    "import sklearn\n",
    "import numpy as np\n",
    "import pandas as pd\n",
    "import seaborn as sns\n",
    "import matplotlib.pyplot as plt\n",
    "%matplotlib inline"
   ]
  },
  {
   "attachments": {},
   "cell_type": "markdown",
   "id": "08c4bc0a",
   "metadata": {},
   "source": [
    "## 1. Load and split preprocessed data"
   ]
  },
  {
   "cell_type": "code",
   "execution_count": 2,
   "id": "82b64b4b",
   "metadata": {},
   "outputs": [
    {
     "data": {
      "text/plain": [
       "Ever_Married                float64\n",
       "Age                         float64\n",
       "Graduated                   float64\n",
       "Spending_Score                int64\n",
       "Family_Size                 float64\n",
       "Segmentation                  int64\n",
       "Profession_Artist             int64\n",
       "Profession_Engineer           int64\n",
       "Profession_Entertainment      int64\n",
       "Profession_Healthcare         int64\n",
       "Profession_Lawyer             int64\n",
       "Profession_Marketing          int64\n",
       "dtype: object"
      ]
     },
     "execution_count": 2,
     "metadata": {},
     "output_type": "execute_result"
    }
   ],
   "source": [
    "# Import dataset\n",
    "data = pd.read_csv('market_processed.csv')\n",
    "data.dtypes"
   ]
  },
  {
   "cell_type": "markdown",
   "id": "10fc2989",
   "metadata": {},
   "source": [
    "# Dataset Summary\n",
    "<p> Market Segment Of Car Company Customers </p>\n",
    "<p> This dataset contains the above features for each column, The target of this dataset is to determine the Market segment of a given customer, Given by the Segmentation Column places someone in a market segment A B C or D.</p>"
   ]
  },
  {
   "cell_type": "code",
   "execution_count": 3,
   "id": "d1d8e362",
   "metadata": {},
   "outputs": [],
   "source": [
    "# Splitting the data set\n",
    "from sklearn.model_selection import train_test_split\n",
    "\n",
    "# Y is the dependent variable Segmentation.\n",
    "# X contains the independent variables, which are all the other columns\n",
    "Y = data['Segmentation']\n",
    "X = data.drop('Segmentation', axis=1)\n",
    "\n",
    "# Using a 80-20 train-test split for the training and testing set\n",
    "X_train, X_test, Y_train, Y_test = train_test_split(X, Y, test_size=0.2, random_state=1)"
   ]
  },
  {
   "cell_type": "code",
   "execution_count": 4,
   "id": "f8e5d50f",
   "metadata": {},
   "outputs": [
    {
     "name": "stdout",
     "output_type": "stream",
     "text": [
      "Training data: (5444, 11) (5444,)\n",
      "Testing data: (1361, 11) (1361,)\n"
     ]
    }
   ],
   "source": [
    "# Check if split was correct\n",
    "print('Training data:', X_train.shape, Y_train.shape)\n",
    "print('Testing data:', X_test.shape, Y_test.shape)"
   ]
  },
  {
   "attachments": {},
   "cell_type": "markdown",
   "id": "c03221b0",
   "metadata": {},
   "source": [
    "## 2. Choose an algorithm"
   ]
  },
  {
   "cell_type": "markdown",
   "id": "c67d8341",
   "metadata": {},
   "source": [
    "<p>For the classification dataset I will be choosing Logistic Regression</p>\n",
    "<p> Logistic Regression is a supervised machine learning algorithm used to predict a Categorical dependent variable Y, Based on one or more dependent variables X. A logistic regression model, finds the log odds of the dependent variable y using the relationship \n",
    "log(p/(1-p)) = c + m1*x1 + ... mn*xn then the output is transformed using the sigmoid function to produce a value between 0 and 1</p>"
   ]
  },
  {
   "cell_type": "code",
   "execution_count": 9,
   "id": "a9ce08f5",
   "metadata": {},
   "outputs": [],
   "source": [
    "# Import logistic regression and accuracy\n",
    "from sklearn.linear_model import LogisticRegression\n",
    "from sklearn.metrics import accuracy_score, classification_report, roc_curve, auc, roc_auc_score, confusion_matrix\n",
    "from sklearn.preprocessing import label_binarize\n"
   ]
  },
  {
   "attachments": {},
   "cell_type": "markdown",
   "id": "3e06351b",
   "metadata": {},
   "source": [
    "## 3. Train and test a model"
   ]
  },
  {
   "cell_type": "code",
   "execution_count": 6,
   "id": "619bb3d3",
   "metadata": {},
   "outputs": [
    {
     "name": "stdout",
     "output_type": "stream",
     "text": [
      "Accuracy - 0.49\n"
     ]
    }
   ],
   "source": [
    "# initialize and train the model\n",
    "logistic_model = LogisticRegression(multi_class='multinomial', solver='lbfgs', max_iter=10000)\n",
    "logistic_model.fit(X_train, Y_train)\n",
    "\n",
    "# Predict the test set\n",
    "Y_pred = logistic_model.predict(X_test)\n",
    "\n",
    "# show the accuracy\n",
    "accuracy = accuracy_score(Y_test, Y_pred)\n",
    "print(f\"Accuracy - {accuracy:.2f}\")\n"
   ]
  },
  {
   "attachments": {},
   "cell_type": "markdown",
   "id": "5cafcd88",
   "metadata": {},
   "source": [
    "## 4. Evaluate the model "
   ]
  },
  {
   "cell_type": "code",
   "execution_count": 7,
   "id": "55b0785c",
   "metadata": {},
   "outputs": [
    {
     "name": "stdout",
     "output_type": "stream",
     "text": [
      "Classification Report:\n",
      "               precision    recall  f1-score   support\n",
      "\n",
      "           0       0.45      0.47      0.46       344\n",
      "           1       0.36      0.15      0.22       312\n",
      "           2       0.49      0.64      0.55       364\n",
      "           3       0.57      0.65      0.61       341\n",
      "\n",
      "    accuracy                           0.49      1361\n",
      "   macro avg       0.47      0.48      0.46      1361\n",
      "weighted avg       0.47      0.49      0.47      1361\n",
      "\n"
     ]
    },
    {
     "data": {
      "image/png": "[encoded data removed]",
      "text/plain": [
       "<Figure size 432x288 with 1 Axes>"
      ]
     },
     "metadata": {
      "needs_background": "light"
     },
     "output_type": "display_data"
    }
   ],
   "source": [
    "# Classification report\n",
    "print(\"Classification Report:\\n\",classification_report(Y_test, Y_pred))\n",
    "\n",
    "\n",
    "# Roc and Auc Analysis plot\n",
    "\n",
    "# Binarize the labels\n",
    "Y_bin = label_binarize(Y_test, classes=[0, 1, 2, 3]) \n",
    "Y_pred_bin = label_binarize(Y_pred, classes=[0, 1, 2, 3])\n",
    "\n",
    "# Calculate roc curve and area\n",
    "fpr = dict()\n",
    "tpr = dict()\n",
    "roc_auc = dict()\n",
    "for i in range(4):\n",
    "    fpr[i], tpr[i], _ = roc_curve(Y_bin[:, i], Y_pred_bin[:, i])\n",
    "    roc_auc[i] = auc(fpr[i], tpr[i])\n",
    "\n",
    "\n",
    "# Plot curve\n",
    "for i, color in zip(range(4), ['blue', 'red', 'green', 'yellow']):\n",
    "    plt.plot(fpr[i], tpr[i], color=color, lw=2,\n",
    "             label='ROC curve of class {0} (area = {1:0.2f})'\n",
    "             ''.format(i, roc_auc[i]))\n",
    "\n",
    "plt.plot([0, 1], [0, 1], 'k--', lw=2)\n",
    "plt.xlim([0.0, 1.0])\n",
    "plt.ylim([0.0, 1.05])\n",
    "plt.xlabel('False Positive Rate')\n",
    "plt.ylabel('True Positive Rate')\n",
    "plt.title('ROC curve for data')\n",
    "plt.legend(loc=\"lower right\")\n",
    "plt.show()"
   ]
  },
  {
   "attachments": {},
   "cell_type": "markdown",
   "id": "802b550a",
   "metadata": {},
   "source": [
    "## 5. Summary"
   ]
  },
  {
   "attachments": {},
   "cell_type": "markdown",
   "id": "0dda11f9",
   "metadata": {},
   "source": [
    "<p> In step 1 we imported the dataset, summarized its purpose in predicting the Market segment of individuals researched by a car company and then created the training and testing dataset with a split of 80 to 20</p>\n",
    "\n",
    "<p> In step 2 we summarized the logistic regression model and its use in predicting a categorical dependent variable, using log-odds transformed by a sigmoid function and accounting for each feature and then importing the model itself along with the metrics.</p>\n",
    "\n",
    "<p> In step 3 the model was trained, and the prediction set was created along with the accuracy being displayed</p>\n",
    "\n",
    "<p> In step 4 the The classification report and the roc analysis plot was created</p>\n",
    "\n",
    "# Evaluation \n",
    "<p> \n",
    "\n",
    "The accuracy reported for our model is about 0.49, which is better than the accuracy from random guessing, however still around 50% of the model is being misclassed.\n",
    "\n",
    "The precision of the classification report shows for each class which were actually correct, at highest was class D at 0.57, next was class C at 0.49, class A at 0.45 and the model struggles with class B the most at a precision of 0.36\n",
    "\n",
    "Recall tells us how many were correctly predicted out of the actual instances of a class, Class D has a recall of 0.65, Class C with 0.64, Class A with 0.47 and class B with 0.15.\n",
    "\n",
    "f1 Score is the mean between our recall and precision, Class D is the highest with 0.61, Next is class C with 0.55, class A with 0.46 and lastly Class B is the lowest with 0.22\n",
    "\n",
    "The roc shows the curve for True positive rate and false positive rate for each of the classes. Each class did better than the random classifier as they all had greater than 0.5 area, Class D did the best with an area of 0.74, C with 0.7, A with 0.64 and B struggling the most with 0.54.\n",
    "\n",
    "Overall our model was better than randomly guessing but there is much room for improvement, The overall accuracy was 0.49 which was likely brought down due to the how Segmentation Class B was struggling to be identified. B was Often confused with other classes as shown by the confusion matrix.\n",
    "\n",
    "In order to improve our accuracy further for this dataset we could possibly try different models to see if they would be able to predict better. And perhaps perform more pre-processing to ensure B was not confused with the other classes present.\n",
    "</p>"
   ]
  },
  {
   "cell_type": "code",
   "execution_count": 11,
   "id": "2c3ed16a",
   "metadata": {},
   "outputs": [
    {
     "data": {
      "image/png": "[encoded data removed]",
      "text/plain": [
       "<Figure size 432x288 with 2 Axes>"
      ]
     },
     "metadata": {
      "needs_background": "light"
     },
     "output_type": "display_data"
    }
   ],
   "source": [
    "cm = confusion_matrix(Y_test, Y_pred)\n",
    "sns.heatmap(cm, annot=True, fmt='g')\n",
    "plt.xlabel('Predicted labels')\n",
    "plt.ylabel('True labels')\n",
    "plt.show()"
   ]
  }
 ],
 "metadata": {
  "kernelspec": {
   "display_name": "Python 3 (ipykernel)",
   "language": "python",
   "name": "python3"
  },
  "language_info": {
   "codemirror_mode": {
    "name": "ipython",
    "version": 3
   },
   "file_extension": ".py",
   "mimetype": "text/x-python",
   "name": "python",
   "nbconvert_exporter": "python",
   "pygments_lexer": "ipython3",
   "version": "3.10.5"
  }
 },
 "nbformat": 4,
 "nbformat_minor": 5
}
